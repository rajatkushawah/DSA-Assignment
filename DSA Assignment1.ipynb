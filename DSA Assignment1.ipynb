{
 "cells": [
  {
   "cell_type": "markdown",
   "id": "2500a2b7",
   "metadata": {},
   "source": [
    "que1- Given an array of integers nums and an integer target, return indices of the two numbers such that they add up to target.\n",
    "\n",
    "You may assume that each input would have exactly one solution, and you may not use the same element twice.\n",
    "\n",
    "You can return the answer in any order.\n",
    "\n",
    "**Example:**\n",
    "Input: nums = [2,7,11,15], target = 9\n",
    "Output0 [0,1]\n",
    "\n",
    "**Explanation:** Because nums[0] + nums[1] == 9, we return [0, 1]["
   ]
  },
  {
   "cell_type": "markdown",
   "id": "043ad5c9",
   "metadata": {},
   "source": [
    "ans1-"
   ]
  },
  {
   "cell_type": "code",
   "execution_count": 4,
   "id": "5ac74493",
   "metadata": {},
   "outputs": [
    {
     "name": "stdout",
     "output_type": "stream",
     "text": [
      "[0, 1]\n",
      "[2, 3]\n"
     ]
    }
   ],
   "source": [
    "def twoSum(nums, target):\n",
    "    n = len(nums)\n",
    "    for i in range(n):\n",
    "        for j in range(i + 1, n):\n",
    "            if nums[i] + nums[j] == target:\n",
    "                return [i, j]\n",
    "    return []\n",
    "\n",
    "# Example1-\n",
    "nums = [2,7,11,15]\n",
    "target = 9\n",
    "result = twoSum(nums, target)\n",
    "print(result)\n",
    "\n",
    "# Example2-\n",
    "nums = [5,9,24,37,58]\n",
    "target = 61\n",
    "result = twoSum(nums, target)\n",
    "print(result)"
   ]
  },
  {
   "cell_type": "markdown",
   "id": "01d9f114",
   "metadata": {},
   "source": [
    "que2- Given an integer array nums and an integer val, remove all occurrences of val in nums in-place. The order of the elements may be changed. Then return the number of elements in nums which are not equal to val.\n",
    "\n",
    "Consider the number of elements in nums which are not equal to val be k, to get accepted, you need to do the following things:\n",
    "\n",
    "- Change the array nums such that the first k elements of nums contain the elements which are not equal to val. The remaining elements of nums are not important as well as the size of nums.\n",
    "- Return k.\n",
    "\n",
    "**Example :**\n",
    "Input: nums = [3,2,2,3], val = 3\n",
    "Output: 2, nums = [2,2,_*,_*]\n",
    "\n",
    "**Explanation:** Your function should return k = 2, with the first two elements of nums being 2. It does not matter what you leave beyond the returned k (hence they are underscores)["
   ]
  },
  {
   "cell_type": "markdown",
   "id": "a90e693b",
   "metadata": {},
   "source": [
    "ans2- "
   ]
  },
  {
   "cell_type": "code",
   "execution_count": 7,
   "id": "5938a2c3",
   "metadata": {},
   "outputs": [
    {
     "name": "stdout",
     "output_type": "stream",
     "text": [
      "Count: 2\n",
      "Modified nums: [2, 2]\n",
      "Count: 5\n",
      "Modified nums: [4, 8, 4, 6, 4]\n"
     ]
    }
   ],
   "source": [
    "def removeElement(nums, val):\n",
    "    k = 0\n",
    "    for num in nums:\n",
    "        if num != val:\n",
    "            nums[k] = num\n",
    "            k += 1\n",
    "    return k\n",
    "\n",
    "# Example1- \n",
    "nums = [3,2,2,3]\n",
    "val = 3\n",
    "result = removeElement(nums, val)\n",
    "print(\"Count:\", result)\n",
    "print(\"Modified nums:\", nums[:result])\n",
    "\n",
    "# Example2-\n",
    "nums = [4,5,8,5,4,5,6,5,4]\n",
    "val = 5\n",
    "result = removeElement(nums, val)\n",
    "print(\"Count:\", result)\n",
    "print(\"Modified nums:\", nums[:result])"
   ]
  },
  {
   "cell_type": "markdown",
   "id": "6870ddb1",
   "metadata": {},
   "source": [
    "que3- Given a sorted array of distinct integers and a target value, return the index if the target is found. If not, return the index where it would be if it were inserted in order.\n",
    "\n",
    "You must write an algorithm with O(log n) runtime complexity.\n",
    "\n",
    "**Example 1:**\n",
    "Input: nums = [1,3,5,6], target = 5\n",
    "\n",
    "Output: 2"
   ]
  },
  {
   "cell_type": "markdown",
   "id": "a5c59ea8",
   "metadata": {},
   "source": [
    "ans3-"
   ]
  },
  {
   "cell_type": "code",
   "execution_count": 12,
   "id": "8f1061bf",
   "metadata": {},
   "outputs": [
    {
     "name": "stdout",
     "output_type": "stream",
     "text": [
      "Output: 2\n",
      "Output: 4\n"
     ]
    }
   ],
   "source": [
    "def searchInsert(nums, target):\n",
    "    left = 0\n",
    "    right = len(nums) - 1\n",
    "    \n",
    "    while left <= right:\n",
    "        mid = (left + right) // 2\n",
    "        if nums[mid] == target:\n",
    "            return mid\n",
    "        if nums[mid] < target:\n",
    "            left = mid + 1\n",
    "        else:\n",
    "            right = mid - 1\n",
    "    return left\n",
    "\n",
    "# Example1-\n",
    "nums = [1,3,5,6]\n",
    "target = 5\n",
    "result = searchInsert(nums, target)\n",
    "print(\"Output:\", result)\n",
    "\n",
    "# Example2-\n",
    "nums = [2,4,6,7,9,11,15]\n",
    "target = 8\n",
    "result = searchInsert(nums, target)\n",
    "print(\"Output:\", result)\n"
   ]
  },
  {
   "cell_type": "markdown",
   "id": "85ad2d18",
   "metadata": {},
   "source": [
    "que4- You are given a large integer represented as an integer array digits, where each digits[i] is the ith digit of the integer. The digits are ordered from most significant to least significant in left-to-right order. The large integer does not contain any leading 0's.\n",
    "\n",
    "Increment the large integer by one and return the resulting array of digits.\n",
    "\n",
    "**Example 1:**\n",
    "Input: digits = [1,2,3]\n",
    "Output: [1,2,4]\n",
    "\n",
    "**Explanation:** The array represents the integer 123.\n",
    "\n",
    "Incrementing by one gives 123 + 1 = 124\n",
    "Thus, the result should be [1,2,4]."
   ]
  },
  {
   "cell_type": "markdown",
   "id": "a5d980a7",
   "metadata": {},
   "source": [
    "ans4-"
   ]
  },
  {
   "cell_type": "code",
   "execution_count": 17,
   "id": "2f3c246b",
   "metadata": {},
   "outputs": [
    {
     "name": "stdout",
     "output_type": "stream",
     "text": [
      "[1, 2, 4]\n",
      "[2, 6, 0]\n",
      "[1, 0, 0, 0]\n"
     ]
    }
   ],
   "source": [
    "def plusOne(digits):\n",
    "    n = len(digits)\n",
    "    \n",
    "    # Traverse the digits array from right to left\n",
    "    for i in range(n - 1, -1, -1):\n",
    "        digits[i] += 1\n",
    "        # If the current digit becomes 10, set it to 0 and carry over 1\n",
    "        if digits[i] == 10:\n",
    "            digits[i] = 0\n",
    "        else:\n",
    "            # If the current digit is less than 10, no need to carry over, so we can return the digits array\n",
    "            return digits\n",
    "    # If all digits become 0, insert 1 at the beginning of the digits array\n",
    "    digits.insert(0,1)\n",
    "    \n",
    "    return digits\n",
    "\n",
    "# Example1-\n",
    "digits = [1,2,3]\n",
    "result = plusOne(digits)\n",
    "print(result)\n",
    "\n",
    "# Example2-\n",
    "digits = [2,5,9]\n",
    "result = plusOne(digits)\n",
    "print(result)\n",
    "\n",
    "# Example3-\n",
    "digits = [9,9,9]\n",
    "result = plusOne(digits)\n",
    "print(result)"
   ]
  },
  {
   "cell_type": "markdown",
   "id": "bffa2555",
   "metadata": {},
   "source": [
    "que5- You are given two integer arrays nums1 and nums2, sorted in non-decreasing order, and two integers m and n, representing the number of elements in nums1 and nums2 respectively.\n",
    "\n",
    "Merge nums1 and nums2 into a single array sorted in non-decreasing order.\n",
    "\n",
    "The final sorted array should not be returned by the function, but instead be stored inside the array nums1. To accommodate this, nums1 has a length of m + n, where the first m elements denote the elements that should be merged, and the last n elements are set to 0 and should be ignored. nums2 has a length of n.\n",
    "\n",
    "**Example 1:**\n",
    "Input: nums1 = [1,2,3,0,0,0], m = 3, nums2 = [2,5,6], n = 3\n",
    "Output: [1,2,2,3,5,6]\n",
    "\n",
    "**Explanation:** The arrays we are merging are [1,2,3] and [2,5,6].\n",
    "The result of the merge is [1,2,2,3,5,6] with the underlined elements coming from nums1."
   ]
  },
  {
   "cell_type": "markdown",
   "id": "abe6707e",
   "metadata": {},
   "source": [
    "ans5-"
   ]
  },
  {
   "cell_type": "code",
   "execution_count": 28,
   "id": "8d42f2b4",
   "metadata": {},
   "outputs": [
    {
     "name": "stdout",
     "output_type": "stream",
     "text": [
      "[1, 2, 2, 3, 5, 6]\n",
      "[1, 3, 5, 6, 7, 8, 10, 11]\n"
     ]
    }
   ],
   "source": [
    "def merge(nums1, m, nums2, n):\n",
    "    p1 = m - 1\n",
    "    p2 = n - 1\n",
    "    p = m + n - 1\n",
    "    \n",
    "    while p1 >= 0 and p2 >= 0:\n",
    "        if nums1[p1] > nums2[p2]:\n",
    "            nums1[p] = nums1[p1]\n",
    "            p1 -= 1\n",
    "        else:\n",
    "            nums1[p] = nums2[p2]\n",
    "            p2 -= 1\n",
    "        p -= 1\n",
    "    # Copy the remaining elements from nums2 to nums1 if any\n",
    "    nums1[:p2 + 1] = nums2[:p2 + 1]\n",
    "\n",
    "# Example1-\n",
    "nums1 = [1,2,3,0,0,0]\n",
    "m = 3\n",
    "nums2 = [2,5,6]\n",
    "n = 3\n",
    "merge(nums1, m, nums2, n)\n",
    "print(nums1)\n",
    "\n",
    "# Example2-\n",
    "nums1 = [1,3,5,6,7,0,0,0]\n",
    "m = 5\n",
    "nums2 = [8,10,11,15]\n",
    "n = 3\n",
    "merge(nums1, m, nums2, n)\n",
    "print(nums1)"
   ]
  },
  {
   "cell_type": "markdown",
   "id": "96e39422",
   "metadata": {},
   "source": [
    "que6- Given an integer array nums, return true if any value appears at least twice in the array, and return false if every element is distinct.\n",
    "\n",
    "**Example 1:**\n",
    "Input: nums = [1,2,3,1]\n",
    "\n",
    "Output: true"
   ]
  },
  {
   "cell_type": "markdown",
   "id": "93d9af86",
   "metadata": {},
   "source": [
    "ans6- "
   ]
  },
  {
   "cell_type": "code",
   "execution_count": 30,
   "id": "b39b8c96",
   "metadata": {},
   "outputs": [
    {
     "name": "stdout",
     "output_type": "stream",
     "text": [
      "True\n",
      "False\n"
     ]
    }
   ],
   "source": [
    "def Duplicate(nums):\n",
    "    unique_set = set()  # Create an empty set to store unique elements\n",
    "    \n",
    "    for num in nums:\n",
    "        # Check if the current element is already in the set\n",
    "        if num in unique_set:\n",
    "            return True\n",
    "        else:\n",
    "            unique_set.add(num)  # Add the element to the set\n",
    "    return False\n",
    "\n",
    "# Example1-\n",
    "nums = [1,2,3,1]\n",
    "result = Duplicate(nums)\n",
    "print(result)\n",
    "\n",
    "# Example2-\n",
    "nums = [5,4,8,9,6]\n",
    "result = Duplicate(nums)\n",
    "print(result)"
   ]
  },
  {
   "cell_type": "markdown",
   "id": "89028bb1",
   "metadata": {},
   "source": [
    "que7- Given an integer array nums, move all 0's to the end of it while maintaining the relative order of the nonzero elements.\n",
    "\n",
    "Note that you must do this in-place without making a copy of the array.\n",
    "\n",
    "**Example 1:**\n",
    "Input: nums = [0,1,0,3,12]\n",
    "Output: [1,3,12,0,0]"
   ]
  },
  {
   "cell_type": "markdown",
   "id": "284edd73",
   "metadata": {},
   "source": [
    "ans7- "
   ]
  },
  {
   "cell_type": "code",
   "execution_count": 31,
   "id": "6cce4192",
   "metadata": {},
   "outputs": [
    {
     "name": "stdout",
     "output_type": "stream",
     "text": [
      "[1, 3, 12, 0, 0]\n",
      "[2, 5, 1, 6, 36, 0, 0, 0]\n"
     ]
    }
   ],
   "source": [
    "def moveZeroes(nums):\n",
    "    non_zero_idx = 0\n",
    "\n",
    "    for num in nums:\n",
    "        if num != 0:\n",
    "            nums[non_zero_idx] = num\n",
    "            non_zero_idx += 1\n",
    "\n",
    "    # Fill remaining elements with zeros\n",
    "    while non_zero_idx < len(nums):\n",
    "        nums[non_zero_idx] = 0\n",
    "        non_zero_idx += 1\n",
    "\n",
    "# Example1-\n",
    "nums = [0,1,0,3,12]\n",
    "moveZeroes(nums)\n",
    "print(nums)\n",
    "\n",
    "# Example2-\n",
    "nums = [2,5,0,1,6,0,0,36]\n",
    "moveZeroes(nums)\n",
    "print(nums)"
   ]
  },
  {
   "cell_type": "markdown",
   "id": "560c80df",
   "metadata": {},
   "source": [
    "que8- You have a set of integers s, which originally contains all the numbers from 1 to n. Unfortunately, due to some error, one of the numbers in s got duplicated to another number in the set, which results in repetition of one number and loss of another number.\n",
    "\n",
    "You are given an integer array nums representing the data status of this set after the error.\n",
    "\n",
    "Find the number that occurs twice and the number that is missing and return them in the form of an array.\n",
    "\n",
    "**Example 1:**\n",
    "Input: nums = [1,2,2,4]\n",
    "Output: [2,3]"
   ]
  },
  {
   "cell_type": "markdown",
   "id": "9e0da344",
   "metadata": {},
   "source": [
    "ans8-"
   ]
  },
  {
   "cell_type": "code",
   "execution_count": 41,
   "id": "0a9678f4",
   "metadata": {},
   "outputs": [
    {
     "name": "stdout",
     "output_type": "stream",
     "text": [
      "[2, 3]\n",
      "[12, 13]\n"
     ]
    }
   ],
   "source": [
    "def findErrorNums(nums):\n",
    "    maximum = max(nums)  # Find the maximum number in the array\n",
    "    count = [0] * (maximum + 1)  # Initialize the count list based on the maximum number\n",
    "    duplicate = -1\n",
    "    missing = -1\n",
    "\n",
    "    for num in nums:\n",
    "        count[num] += 1  # Count the occurrences of each number\n",
    "\n",
    "    for i in range(1, maximum + 1):\n",
    "        if count[i] == 2:  # Find the number that occurs twice\n",
    "            duplicate = i\n",
    "        elif count[i] == 0:  # Find the missing number\n",
    "            missing = i\n",
    "\n",
    "    return [duplicate, missing]\n",
    "\n",
    "# Example1-\n",
    "nums = [1,2,2,4]\n",
    "result = findErrorNums(nums)\n",
    "print(result)\n",
    "\n",
    "# Example2-\n",
    "nums = [10,11,12,12,14]\n",
    "result = findErrorNums(nums)\n",
    "print(result)"
   ]
  }
 ],
 "metadata": {
  "kernelspec": {
   "display_name": "Python 3 (ipykernel)",
   "language": "python",
   "name": "python3"
  },
  "language_info": {
   "codemirror_mode": {
    "name": "ipython",
    "version": 3
   },
   "file_extension": ".py",
   "mimetype": "text/x-python",
   "name": "python",
   "nbconvert_exporter": "python",
   "pygments_lexer": "ipython3",
   "version": "3.9.7"
  }
 },
 "nbformat": 4,
 "nbformat_minor": 5
}
