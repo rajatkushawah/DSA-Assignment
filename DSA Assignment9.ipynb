{
 "cells": [
  {
   "cell_type": "markdown",
   "id": "97ae12ef",
   "metadata": {},
   "source": [
    "que1- Given an integer `n`, return *`true` if it is a power of two. Otherwise, return `false`*.\n",
    "\n",
    "An integer `n` is a power of two, if there exists an integer `x` such that `n == 2x`.\n",
    "\n",
    "**Example 1:**\n",
    "Input: n = 1 \n",
    "\n",
    "Output: true\n",
    "\n",
    "**Example 2:**\n",
    "Input: n = 16 \n",
    "\n",
    "Output: true\n",
    "\n",
    "**Example 3:**\n",
    "Input: n = 3 \n",
    "\n",
    "Output: false"
   ]
  },
  {
   "cell_type": "markdown",
   "id": "2fcbdb5c",
   "metadata": {},
   "source": [
    "ans1- "
   ]
  },
  {
   "cell_type": "code",
   "execution_count": 4,
   "id": "58fc7db7",
   "metadata": {},
   "outputs": [
    {
     "name": "stdout",
     "output_type": "stream",
     "text": [
      "True\n",
      "True\n",
      "False\n"
     ]
    }
   ],
   "source": [
    "def is_power_of_two(n):\n",
    "    if n <= 0:\n",
    "        return False\n",
    "    return (n & (n - 1)) == 0\n",
    "\n",
    "#Example1-\n",
    "n = 1\n",
    "result = is_power_of_two(n)\n",
    "print(result)\n",
    "\n",
    "#Example2-\n",
    "n = 16\n",
    "result = is_power_of_two(n)\n",
    "print(result)\n",
    "\n",
    "#Example3-\n",
    "n = 3\n",
    "result = is_power_of_two(n)\n",
    "print(result)"
   ]
  },
  {
   "cell_type": "markdown",
   "id": "06234bc9",
   "metadata": {},
   "source": [
    "que2- Given a number n, find the sum of the first natural numbers.\n",
    "\n",
    "**Example 1:**\n",
    "\n",
    "Input: n = 3 \n",
    "\n",
    "Output: 6\n",
    "\n",
    "**Example 2:**\n",
    "\n",
    "Input  : 5 \n",
    "\n",
    "Output : 15"
   ]
  },
  {
   "cell_type": "markdown",
   "id": "2fcbff4c",
   "metadata": {},
   "source": [
    "ans2-"
   ]
  },
  {
   "cell_type": "code",
   "execution_count": 8,
   "id": "c7999e99",
   "metadata": {},
   "outputs": [
    {
     "name": "stdout",
     "output_type": "stream",
     "text": [
      "6\n",
      "15\n"
     ]
    }
   ],
   "source": [
    "def sum_of_natural_numbers(n):\n",
    "    sum = n * (n + 1) // 2\n",
    "    return sum\n",
    "\n",
    "#Example1-\n",
    "n = 3\n",
    "result = sum_of_natural_numbers(n)\n",
    "print(result)\n",
    "\n",
    "#Example2-\n",
    "n = 5\n",
    "result = sum_of_natural_numbers(n)\n",
    "print(result)\n"
   ]
  },
  {
   "cell_type": "markdown",
   "id": "4e775391",
   "metadata": {},
   "source": [
    "que3- Given a positive integer, N. Find the factorial of N. \n",
    "\n",
    "**Example 1:**\n",
    "\n",
    "Input: N = 5 \n",
    "\n",
    "Output: 120\n",
    "\n",
    "**Example 2:**\n",
    "\n",
    "Input: N = 4\n",
    "\n",
    "Output: 24"
   ]
  },
  {
   "cell_type": "markdown",
   "id": "ed9fd51f",
   "metadata": {},
   "source": [
    "ans3- "
   ]
  },
  {
   "cell_type": "code",
   "execution_count": 10,
   "id": "8e6c72f4",
   "metadata": {},
   "outputs": [
    {
     "name": "stdout",
     "output_type": "stream",
     "text": [
      "120\n",
      "24\n"
     ]
    }
   ],
   "source": [
    "def factorial(N):\n",
    "    if N == 0 or N == 1:\n",
    "        return 1\n",
    "    return N * factorial(N - 1)\n",
    "\n",
    "#Example1-\n",
    "N = 5\n",
    "result = factorial(N)\n",
    "print(result)\n",
    "\n",
    "#Example2-\n",
    "N = 4\n",
    "result = factorial(N)\n",
    "print(result)"
   ]
  },
  {
   "cell_type": "markdown",
   "id": "c524163c",
   "metadata": {},
   "source": [
    "que4- Given a number N and a power P, the task is to find the exponent of this number raised to the given power, i.e. N^P.\n",
    "\n",
    "**Example 1 :** \n",
    "\n",
    "Input: N = 5, P = 2\n",
    "\n",
    "Output: 25\n",
    "\n",
    "**Example 2 :**\n",
    "Input: N = 2, P = 5\n",
    "\n",
    "Output: 32"
   ]
  },
  {
   "cell_type": "markdown",
   "id": "b185e3fe",
   "metadata": {},
   "source": [
    "ans4- "
   ]
  },
  {
   "cell_type": "code",
   "execution_count": 14,
   "id": "13afbc33",
   "metadata": {},
   "outputs": [
    {
     "name": "stdout",
     "output_type": "stream",
     "text": [
      "25\n",
      "32\n"
     ]
    }
   ],
   "source": [
    "def exponent(N, P):\n",
    "    if P == 0:\n",
    "        return 1\n",
    "    return N * exponent(N, P - 1)\n",
    "\n",
    "#Example1-\n",
    "N = 5\n",
    "P = 2\n",
    "result = exponent(N, P)\n",
    "print(result)\n",
    "\n",
    "#Example2-\n",
    "N = 2\n",
    "P = 5\n",
    "result = exponent(N, P)\n",
    "print(result)"
   ]
  },
  {
   "cell_type": "markdown",
   "id": "8016d516",
   "metadata": {},
   "source": [
    "que5- Given an array of integers **arr**, the task is to find maximum element of that array using recursion.\n",
    "\n",
    "**Example 1:**\n",
    "\n",
    "Input: arr = {1, 4, 3, -5, -4, 8, 6};\n",
    "Output: 8\n",
    "\n",
    "**Example 2:**\n",
    "\n",
    "Input: arr = {1, 4, 45, 6, 10, -8};\n",
    "Output: 45"
   ]
  },
  {
   "cell_type": "markdown",
   "id": "486981a4",
   "metadata": {},
   "source": [
    "ans5- "
   ]
  },
  {
   "cell_type": "code",
   "execution_count": 18,
   "id": "52aa4841",
   "metadata": {},
   "outputs": [
    {
     "name": "stdout",
     "output_type": "stream",
     "text": [
      "8\n",
      "45\n"
     ]
    }
   ],
   "source": [
    "def find_max(arr):\n",
    "    if len(arr) == 1:\n",
    "        return arr[0]\n",
    "    \n",
    "    mid = len(arr) // 2\n",
    "    left = arr[:mid]\n",
    "    right = arr[mid:]\n",
    "    \n",
    "    max_left = find_max(left)\n",
    "    max_right = find_max(right)\n",
    "    \n",
    "    if max_left > max_right:\n",
    "        return max_left\n",
    "    else:\n",
    "        return max_right\n",
    "\n",
    "#Example1-\n",
    "arr1 = [1, 4, 3, -5, -4, 8, 6]\n",
    "result1 = find_max(arr1)\n",
    "print(result1)\n",
    "\n",
    "#Example2-\n",
    "arr2 = [1, 4, 45, 6, 10, -8]\n",
    "result2 = find_max(arr2)\n",
    "print(result2)"
   ]
  },
  {
   "cell_type": "markdown",
   "id": "aa2a2055",
   "metadata": {},
   "source": [
    "que6- Given first term (a), common difference (d) and a integer N of the Arithmetic Progression series, the task is to find Nth term of the series.\n",
    "\n",
    "**Example 1:**\n",
    "\n",
    "Input : a = 2 d = 1 N = 5\n",
    "Output : 6\n",
    "The 5th term of the series is : 6\n",
    "\n",
    "**Example 2:**\n",
    "\n",
    "Input : a = 5 d = 2 N = 10\n",
    "Output : 23\n",
    "The 10th term of the series is : 23"
   ]
  },
  {
   "cell_type": "markdown",
   "id": "ffd38081",
   "metadata": {},
   "source": [
    "ans6- "
   ]
  },
  {
   "cell_type": "code",
   "execution_count": 21,
   "id": "e97c39d6",
   "metadata": {},
   "outputs": [
    {
     "name": "stdout",
     "output_type": "stream",
     "text": [
      "6\n",
      "23\n"
     ]
    }
   ],
   "source": [
    "def find_nth_term(a, d, N):\n",
    "    nth_term = a + (N - 1) * d\n",
    "    return nth_term\n",
    "\n",
    "#Example1-\n",
    "a1 = 2\n",
    "d1 = 1\n",
    "N1 = 5\n",
    "result1 = find_nth_term(a1, d1, N1)\n",
    "print(result1)\n",
    "\n",
    "#Example2-\n",
    "a2 = 5\n",
    "d2 = 2\n",
    "N2 = 10\n",
    "result2 = find_nth_term(a2, d2, N2)\n",
    "print(result2)"
   ]
  },
  {
   "cell_type": "markdown",
   "id": "eaa6d15d",
   "metadata": {},
   "source": [
    "que7- Given a string S, the task is to write a program to print all permutations of a given string.\n",
    "\n",
    "**Example 1:**\n",
    "\n",
    "***Input:***\n",
    "\n",
    "*S = “ABC”*\n",
    "\n",
    "***Output:***\n",
    "\n",
    "*“ABC”, “ACB”, “BAC”, “BCA”, “CBA”, “CAB”*"
   ]
  },
  {
   "cell_type": "markdown",
   "id": "b9f8062f",
   "metadata": {},
   "source": [
    "ans7- "
   ]
  },
  {
   "cell_type": "code",
   "execution_count": 27,
   "id": "4e1546fd",
   "metadata": {},
   "outputs": [
    {
     "name": "stdout",
     "output_type": "stream",
     "text": [
      "['ABC', 'ACB', 'BAC', 'BCA', 'CAB', 'CBA']\n"
     ]
    }
   ],
   "source": [
    "def permuteHelper(current, remaining, result):\n",
    "    if len(remaining) == 0:\n",
    "        result.append(current)\n",
    "    else:\n",
    "        for i in range(len(remaining)):\n",
    "            new_current = current + remaining[i]\n",
    "            new_remaining = remaining[:i] + remaining[i+1:]\n",
    "            permuteHelper(new_current, new_remaining, result)\n",
    "\n",
    "def permute(S):\n",
    "    result = []\n",
    "    permuteHelper(\"\", S, result)\n",
    "    return result\n",
    "\n",
    "#Example-\n",
    "S = \"ABC\"\n",
    "result = permute(S)\n",
    "print(result)"
   ]
  },
  {
   "cell_type": "markdown",
   "id": "af6bf7e2",
   "metadata": {},
   "source": [
    "que8- Given an array, find a product of all array elements.\n",
    "\n",
    "**Example 1:**\n",
    "\n",
    "Input  : arr[] = {1, 2, 3, 4, 5}\n",
    "Output : 120\n",
    "\n",
    "**Example 2:**\n",
    "\n",
    "Input  : arr[] = {1, 6, 3}\n",
    "Output : 18"
   ]
  },
  {
   "cell_type": "markdown",
   "id": "e64f2949",
   "metadata": {},
   "source": [
    "ans8- "
   ]
  },
  {
   "cell_type": "code",
   "execution_count": 34,
   "id": "70a7d677",
   "metadata": {},
   "outputs": [
    {
     "name": "stdout",
     "output_type": "stream",
     "text": [
      "120\n",
      "18\n"
     ]
    }
   ],
   "source": [
    "def product_of_array(arr):\n",
    "    product = 1\n",
    "    for num in arr:\n",
    "        product *= num\n",
    "    return product\n",
    "\n",
    "#Example1-\n",
    "arr1 = [1, 2, 3, 4, 5]\n",
    "result1 = product_of_array(arr1)\n",
    "print(result1)\n",
    "\n",
    "#Example2-\n",
    "arr2 = [1, 6, 3]\n",
    "result2 = product_of_array(arr2)\n",
    "print(result2)"
   ]
  }
 ],
 "metadata": {
  "kernelspec": {
   "display_name": "Python 3 (ipykernel)",
   "language": "python",
   "name": "python3"
  },
  "language_info": {
   "codemirror_mode": {
    "name": "ipython",
    "version": 3
   },
   "file_extension": ".py",
   "mimetype": "text/x-python",
   "name": "python",
   "nbconvert_exporter": "python",
   "pygments_lexer": "ipython3",
   "version": "3.9.7"
  }
 },
 "nbformat": 4,
 "nbformat_minor": 5
}
